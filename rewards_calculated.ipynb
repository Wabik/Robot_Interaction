{
 "cells": [
  {
   "cell_type": "code",
   "execution_count": null,
   "metadata": {},
   "outputs": [],
   "source": [
    "import numpy as np\n",
    "\n",
    "#Obliczanie podobieństwa między dwoma zbiorami rozmytymi\n",
    "def similarity(Aj, Ai):\n",
    "    n = len(Aj)\n",
    "    distance = np.sqrt(np.sum((np.array(Aj) - np.array(Ai))**2) / n)\n",
    "    return 1 - distance\n",
    "\n",
    "#cenę stanu na podstawie podobieństwa do innych stanów\n",
    "def calculate_reward(Ai, A_list, r_list):\n",
    "    m = len(A_list)\n",
    "    weighted_sum = 0\n",
    "    for j in range(m):\n",
    "        s_ij = similarity(A_list[j], Ai)\n",
    "        weighted_sum += s_ij * r_list[j]\n",
    "    return weighted_sum / m\n",
    "\n",
    "A_list = [\n",
    "    [0.9,0.7,0.5,0,0,0],\n",
    "    [0.5,0,0,0,0,0],\n",
    "    [0.6,0.9,0.1,0,0,0],\n",
    "    [0.8,0.2,0,0.5,0.3,0],\n",
    "    [0.9,0.8,0.8,0,0,0],\n",
    "    [0.1,0,0,0,0,0],\n",
    "    [0.3,0,0,0.5,0.9,0],\n",
    "    [0.7,0.5,0.5,1,0.6,0.3]\n",
    "    # [0.1,0,0,1,0.9,0.8],\n",
    "    # [0.8,0.4,0.3,0.5,1,0],\n",
    "     # [0.2,0,0,0.5,0,0.5]\n",
    "    # [0.1,1,1,1,0,0],\n",
    "    \n",
    "]\n",
    "\n",
    "r_list = [0.9,0.3,0.6,0.7,1,0.1,0.5, 0.8\n",
    "# 0.7,0.8,\n",
    "# ,0.3,\n",
    "# 1,\n",
    "# 0\n",
    "]  # Oceny stanów\n",
    "\n",
    "\n",
    "#dalej\n",
    "Ai = [0.9,0.5,0,0.5,0.5,0.5]\n",
    "reward = calculate_reward(Ai, A_list, r_list)\n",
    "print(f\"Otrzymana ocena dla stanu Ai: {reward:.2f}\")\n",
    "\n",
    "#bliżejCelu\n",
    "Ai = [0.9,0.8,0.7,0,0,0]\n",
    "reward = calculate_reward(Ai, A_list, r_list)\n",
    "print(f\"Ocena dla stanu Ai: {reward:.2f}\")"
   ]
  }
 ],
 "metadata": {
  "language_info": {
   "name": "python"
  }
 },
 "nbformat": 4,
 "nbformat_minor": 2
}
